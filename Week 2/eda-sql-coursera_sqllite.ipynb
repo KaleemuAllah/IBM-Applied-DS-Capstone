{
 "cells": [
  {
   "cell_type": "markdown",
   "metadata": {},
   "source": [
    "## Overview of the DataSet\n",
    "\n",
    "SpaceX has gained worldwide attention for a series of historic milestones. \n",
    "\n",
    "It is the only private company ever to return a spacecraft from low-earth orbit, which it first accomplished in December 2010.\n",
    "SpaceX advertises Falcon 9 rocket launches on its website with a cost of 62 million dollars wheras other providers cost upward of 165 million dollars each, much of the savings is because Space X can reuse the first stage. \n",
    "\n",
    "\n",
    "Therefore if we can determine if the first stage will land, we can determine the cost of a launch. \n",
    "\n",
    "This information can be used if an alternate company wants to bid against SpaceX for a rocket launch.\n",
    "\n",
    "This dataset includes a record for each payload carried during a SpaceX mission into outer space.\n"
   ]
  },
  {
   "cell_type": "markdown",
   "metadata": {},
   "source": [
    "### Download the datasets\n",
    "\n",
    "This assignment requires you to load the spacex dataset.\n",
    "\n",
    "In many cases the dataset to be analyzed is available as a .CSV (comma separated values) file, perhaps on the internet. Click on the link below to download and save the dataset (.CSV file):\n",
    "\n",
    " <a href=\"https://cf-courses-data.s3.us.cloud-object-storage.appdomain.cloud/IBM-DS0321EN-SkillsNetwork/labs/module_2/data/Spacex.csv\" target=\"_blank\">Spacex DataSet</a>\n",
    "\n"
   ]
  },
  {
   "cell_type": "code",
   "execution_count": 1,
   "metadata": {
    "tags": []
   },
   "outputs": [
    {
     "name": "stdout",
     "output_type": "stream",
     "text": [
      "Collecting sqlalchemy==1.3.9\n",
      "  Downloading SQLAlchemy-1.3.9.tar.gz (6.0 MB)\n",
      "\u001b[2K     \u001b[90m━━━━━━━━━━━━━━━━━━━━━━━━━━━━━━━━━━━━━━━━\u001b[0m \u001b[32m6.0/6.0 MB\u001b[0m \u001b[31m69.2 MB/s\u001b[0m eta \u001b[36m0:00:00\u001b[0m:00:01\u001b[0m0:01\u001b[0m\n",
      "\u001b[?25h  Preparing metadata (setup.py) ... \u001b[?25ldone\n",
      "\u001b[?25hBuilding wheels for collected packages: sqlalchemy\n",
      "  Building wheel for sqlalchemy (setup.py) ... \u001b[?25ldone\n",
      "\u001b[?25h  Created wheel for sqlalchemy: filename=SQLAlchemy-1.3.9-cp37-cp37m-linux_x86_64.whl size=1159121 sha256=9defa61f604eb37cc0645b7a2ce4eb8873999834e1f32a544fc6b36bca7a545f\n",
      "  Stored in directory: /home/jupyterlab/.cache/pip/wheels/03/71/13/010faf12246f72dc76b4150e6e599d13a85b4435e06fb9e51f\n",
      "Successfully built sqlalchemy\n",
      "Installing collected packages: sqlalchemy\n",
      "  Attempting uninstall: sqlalchemy\n",
      "    Found existing installation: SQLAlchemy 1.3.24\n",
      "    Uninstalling SQLAlchemy-1.3.24:\n",
      "      Successfully uninstalled SQLAlchemy-1.3.24\n",
      "Successfully installed sqlalchemy-1.3.9\n"
     ]
    }
   ],
   "source": [
    "!pip install sqlalchemy==1.3.9\n"
   ]
  },
  {
   "cell_type": "markdown",
   "metadata": {},
   "source": [
    "### Connect to the database\n",
    "\n",
    "Let us first load the SQL extension and establish a connection with the database\n"
   ]
  },
  {
   "cell_type": "code",
   "execution_count": null,
   "metadata": {},
   "outputs": [],
   "source": [
    "#Please uncomment and execute the code below if you are working locally.\n",
    "\n",
    "#!pip install ipython-sql"
   ]
  },
  {
   "cell_type": "code",
   "execution_count": 2,
   "metadata": {
    "tags": []
   },
   "outputs": [],
   "source": [
    "%load_ext sql"
   ]
  },
  {
   "cell_type": "code",
   "execution_count": 3,
   "metadata": {
    "tags": []
   },
   "outputs": [],
   "source": [
    "import csv, sqlite3\n",
    "\n",
    "con = sqlite3.connect(\"my_data1.db\")\n",
    "cur = con.cursor()"
   ]
  },
  {
   "cell_type": "code",
   "execution_count": 4,
   "metadata": {
    "tags": []
   },
   "outputs": [],
   "source": [
    "!pip install -q pandas==1.1.5"
   ]
  },
  {
   "cell_type": "code",
   "execution_count": 5,
   "metadata": {
    "tags": []
   },
   "outputs": [
    {
     "data": {
      "text/plain": [
       "'Connected: @my_data1.db'"
      ]
     },
     "execution_count": 5,
     "metadata": {},
     "output_type": "execute_result"
    }
   ],
   "source": [
    "%sql sqlite:///my_data1.db"
   ]
  },
  {
   "cell_type": "code",
   "execution_count": 6,
   "metadata": {
    "tags": []
   },
   "outputs": [
    {
     "name": "stderr",
     "output_type": "stream",
     "text": [
      "/home/jupyterlab/conda/envs/python/lib/python3.7/site-packages/pandas/core/generic.py:2882: UserWarning: The spaces in these column names will not be changed. In pandas versions < 0.14, spaces were converted to underscores.\n",
      "  both result in 0.1234 being formatted as 0.12.\n"
     ]
    }
   ],
   "source": [
    "import pandas as pd\n",
    "df = pd.read_csv(\"https://cf-courses-data.s3.us.cloud-object-storage.appdomain.cloud/IBM-DS0321EN-SkillsNetwork/labs/module_2/data/Spacex.csv\")\n",
    "df.to_sql(\"SPACEXTBL\", con, if_exists='replace', index=False,method=\"multi\")"
   ]
  },
  {
   "cell_type": "markdown",
   "metadata": {},
   "source": [
    "**Note:This below code is added to remove blank rows from table**\n"
   ]
  },
  {
   "cell_type": "code",
   "execution_count": 7,
   "metadata": {
    "tags": []
   },
   "outputs": [
    {
     "name": "stdout",
     "output_type": "stream",
     "text": [
      " * sqlite:///my_data1.db\n",
      "Done.\n"
     ]
    },
    {
     "data": {
      "text/plain": [
       "[]"
      ]
     },
     "execution_count": 7,
     "metadata": {},
     "output_type": "execute_result"
    }
   ],
   "source": [
    "%sql create table SPACEXTABLE as select * from SPACEXTBL where Date is not null"
   ]
  },
  {
   "cell_type": "markdown",
   "metadata": {},
   "source": [
    "## Tasks\n",
    "\n",
    "Now write and execute SQL queries to solve the assignment tasks.\n",
    "\n",
    "**Note: If the column names are in mixed case enclose it in double quotes\n",
    "   For Example \"Landing_Outcome\"**\n",
    "\n",
    "### Task 1\n",
    "\n",
    "\n",
    "\n",
    "\n",
    "##### Display the names of the unique launch sites  in the space mission\n"
   ]
  },
  {
   "cell_type": "code",
   "execution_count": 8,
   "metadata": {
    "tags": []
   },
   "outputs": [
    {
     "name": "stdout",
     "output_type": "stream",
     "text": [
      " * sqlite:///my_data1.db\n",
      "Done.\n"
     ]
    },
    {
     "data": {
      "text/html": [
       "<table>\n",
       "    <thead>\n",
       "        <tr>\n",
       "            <th>&quot;Launch Site&quot;</th>\n",
       "        </tr>\n",
       "    </thead>\n",
       "    <tbody>\n",
       "        <tr>\n",
       "            <td>Launch Site</td>\n",
       "        </tr>\n",
       "    </tbody>\n",
       "</table>"
      ],
      "text/plain": [
       "[('Launch Site',)]"
      ]
     },
     "execution_count": 8,
     "metadata": {},
     "output_type": "execute_result"
    }
   ],
   "source": [
    "%sql SELECT DISTINCT \"Launch Site\" FROM SPACEXTBL;"
   ]
  },
  {
   "cell_type": "markdown",
   "metadata": {},
   "source": [
    "\n",
    "### Task 2\n",
    "\n",
    "\n",
    "#####  Display 5 records where launch sites begin with the string 'CCA' \n"
   ]
  },
  {
   "cell_type": "code",
   "execution_count": 9,
   "metadata": {
    "tags": []
   },
   "outputs": [
    {
     "name": "stdout",
     "output_type": "stream",
     "text": [
      " * sqlite:///my_data1.db\n",
      "Done.\n"
     ]
    },
    {
     "data": {
      "text/html": [
       "<table>\n",
       "    <thead>\n",
       "        <tr>\n",
       "            <th>Date</th>\n",
       "            <th>Time (UTC)</th>\n",
       "            <th>Booster_Version</th>\n",
       "            <th>Launch_Site</th>\n",
       "            <th>Payload</th>\n",
       "            <th>PAYLOAD_MASS__KG_</th>\n",
       "            <th>Orbit</th>\n",
       "            <th>Customer</th>\n",
       "            <th>Mission_Outcome</th>\n",
       "            <th>Landing_Outcome</th>\n",
       "        </tr>\n",
       "    </thead>\n",
       "    <tbody>\n",
       "    </tbody>\n",
       "</table>"
      ],
      "text/plain": [
       "[]"
      ]
     },
     "execution_count": 9,
     "metadata": {},
     "output_type": "execute_result"
    }
   ],
   "source": [
    "%sql SELECT * FROM SPACEXTBL WHERE \"Launch Site\" LIKE 'CCA%' LIMIT 5;"
   ]
  },
  {
   "cell_type": "markdown",
   "metadata": {},
   "source": [
    "### Task 3\n",
    "\n",
    "\n",
    "\n",
    "\n",
    "##### Display the total payload mass carried by boosters launched by NASA (CRS)\n"
   ]
  },
  {
   "cell_type": "code",
   "execution_count": 10,
   "metadata": {
    "tags": []
   },
   "outputs": [
    {
     "name": "stdout",
     "output_type": "stream",
     "text": [
      " * sqlite:///my_data1.db\n",
      "Done.\n"
     ]
    },
    {
     "data": {
      "text/html": [
       "<table>\n",
       "    <thead>\n",
       "        <tr>\n",
       "            <th>Total Payload Mass</th>\n",
       "        </tr>\n",
       "    </thead>\n",
       "    <tbody>\n",
       "        <tr>\n",
       "            <td>None</td>\n",
       "        </tr>\n",
       "    </tbody>\n",
       "</table>"
      ],
      "text/plain": [
       "[(None,)]"
      ]
     },
     "execution_count": 10,
     "metadata": {},
     "output_type": "execute_result"
    }
   ],
   "source": [
    "%sql SELECT SUM(\"Payload Mass (kg)\") AS \"Total Payload Mass\" FROM SPACEXTBL WHERE \"Booster Version\" = 'F9 v1.1';"
   ]
  },
  {
   "cell_type": "markdown",
   "metadata": {},
   "source": [
    "### Task 4\n",
    "\n",
    "\n",
    "\n",
    "\n",
    "##### Display average payload mass carried by booster version F9 v1.1\n"
   ]
  },
  {
   "cell_type": "code",
   "execution_count": 11,
   "metadata": {
    "tags": []
   },
   "outputs": [
    {
     "name": "stdout",
     "output_type": "stream",
     "text": [
      " * sqlite:///my_data1.db\n",
      "Done.\n"
     ]
    },
    {
     "data": {
      "text/html": [
       "<table>\n",
       "    <thead>\n",
       "        <tr>\n",
       "            <th>Average Payload Mass</th>\n",
       "        </tr>\n",
       "    </thead>\n",
       "    <tbody>\n",
       "        <tr>\n",
       "            <td>None</td>\n",
       "        </tr>\n",
       "    </tbody>\n",
       "</table>"
      ],
      "text/plain": [
       "[(None,)]"
      ]
     },
     "execution_count": 11,
     "metadata": {},
     "output_type": "execute_result"
    }
   ],
   "source": [
    "%sql SELECT AVG(\"Payload Mass (kg)\") AS \"Average Payload Mass\" FROM SPACEXTBL WHERE \"Booster Version\" = 'F9 v1.1';"
   ]
  },
  {
   "cell_type": "markdown",
   "metadata": {},
   "source": [
    "### Task 5\n",
    "\n",
    "##### List the date when the first succesful landing outcome in ground pad was acheived.\n",
    "\n",
    "\n",
    "_Hint:Use min function_ \n"
   ]
  },
  {
   "cell_type": "code",
   "execution_count": 12,
   "metadata": {
    "tags": []
   },
   "outputs": [
    {
     "name": "stdout",
     "output_type": "stream",
     "text": [
      " * sqlite:///my_data1.db\n",
      "Done.\n"
     ]
    },
    {
     "data": {
      "text/html": [
       "<table>\n",
       "    <thead>\n",
       "        <tr>\n",
       "            <th>First Successful Landing Date</th>\n",
       "        </tr>\n",
       "    </thead>\n",
       "    <tbody>\n",
       "        <tr>\n",
       "            <td>None</td>\n",
       "        </tr>\n",
       "    </tbody>\n",
       "</table>"
      ],
      "text/plain": [
       "[(None,)]"
      ]
     },
     "execution_count": 12,
     "metadata": {},
     "output_type": "execute_result"
    }
   ],
   "source": [
    "%sql SELECT MIN(\"Date\") AS \"First Successful Landing Date\" FROM SPACEXTBL WHERE \"Landing Outcomes\" = 'Success (ground pad)';"
   ]
  },
  {
   "cell_type": "markdown",
   "metadata": {},
   "source": [
    "### Task 6\n",
    "\n",
    "##### List the names of the boosters which have success in drone ship and have payload mass greater than 4000 but less than 6000\n"
   ]
  },
  {
   "cell_type": "code",
   "execution_count": 13,
   "metadata": {
    "tags": []
   },
   "outputs": [
    {
     "name": "stdout",
     "output_type": "stream",
     "text": [
      " * sqlite:///my_data1.db\n",
      "Done.\n"
     ]
    },
    {
     "data": {
      "text/html": [
       "<table>\n",
       "    <thead>\n",
       "        <tr>\n",
       "            <th>&quot;Booster Version&quot;</th>\n",
       "        </tr>\n",
       "    </thead>\n",
       "    <tbody>\n",
       "    </tbody>\n",
       "</table>"
      ],
      "text/plain": [
       "[]"
      ]
     },
     "execution_count": 13,
     "metadata": {},
     "output_type": "execute_result"
    }
   ],
   "source": [
    "%sql SELECT \"Booster Version\" FROM SPACEXTBL WHERE \"Landing Outcomes\" = 'Success (drone ship)' AND \"Payload Mass (kg)\" > 4000 AND \"Payload Mass (kg)\" < 6000;"
   ]
  },
  {
   "cell_type": "markdown",
   "metadata": {},
   "source": [
    "### Task 7\n",
    "\n",
    "\n",
    "\n",
    "\n",
    "##### List the total number of successful and failure mission outcomes\n"
   ]
  },
  {
   "cell_type": "code",
   "execution_count": 14,
   "metadata": {
    "tags": []
   },
   "outputs": [
    {
     "name": "stdout",
     "output_type": "stream",
     "text": [
      " * sqlite:///my_data1.db\n",
      "Done.\n"
     ]
    },
    {
     "data": {
      "text/html": [
       "<table>\n",
       "    <thead>\n",
       "        <tr>\n",
       "            <th>&quot;Mission Outcome&quot;</th>\n",
       "            <th>Total</th>\n",
       "        </tr>\n",
       "    </thead>\n",
       "    <tbody>\n",
       "    </tbody>\n",
       "</table>"
      ],
      "text/plain": [
       "[]"
      ]
     },
     "execution_count": 14,
     "metadata": {},
     "output_type": "execute_result"
    }
   ],
   "source": [
    "%sql SELECT \"Mission Outcome\", COUNT(*) AS \"Total\" FROM SPACEXTBL WHERE \"Mission Outcome\" IN ('Success', 'Failure') GROUP BY \"Mission Outcome\";"
   ]
  },
  {
   "cell_type": "markdown",
   "metadata": {},
   "source": [
    "### Task 8\n",
    "\n",
    "\n",
    "\n",
    "##### List the   names of the booster_versions which have carried the maximum payload mass. Use a subquery\n"
   ]
  },
  {
   "cell_type": "code",
   "execution_count": 16,
   "metadata": {
    "tags": []
   },
   "outputs": [
    {
     "name": "stdout",
     "output_type": "stream",
     "text": [
      " * sqlite:///my_data1.db\n",
      "Done.\n"
     ]
    },
    {
     "data": {
      "text/html": [
       "<table>\n",
       "    <thead>\n",
       "        <tr>\n",
       "            <th>&quot;Booster Version&quot;</th>\n",
       "        </tr>\n",
       "    </thead>\n",
       "    <tbody>\n",
       "        <tr>\n",
       "            <td>Booster Version</td>\n",
       "        </tr>\n",
       "        <tr>\n",
       "            <td>Booster Version</td>\n",
       "        </tr>\n",
       "        <tr>\n",
       "            <td>Booster Version</td>\n",
       "        </tr>\n",
       "        <tr>\n",
       "            <td>Booster Version</td>\n",
       "        </tr>\n",
       "        <tr>\n",
       "            <td>Booster Version</td>\n",
       "        </tr>\n",
       "        <tr>\n",
       "            <td>Booster Version</td>\n",
       "        </tr>\n",
       "        <tr>\n",
       "            <td>Booster Version</td>\n",
       "        </tr>\n",
       "        <tr>\n",
       "            <td>Booster Version</td>\n",
       "        </tr>\n",
       "        <tr>\n",
       "            <td>Booster Version</td>\n",
       "        </tr>\n",
       "        <tr>\n",
       "            <td>Booster Version</td>\n",
       "        </tr>\n",
       "        <tr>\n",
       "            <td>Booster Version</td>\n",
       "        </tr>\n",
       "        <tr>\n",
       "            <td>Booster Version</td>\n",
       "        </tr>\n",
       "        <tr>\n",
       "            <td>Booster Version</td>\n",
       "        </tr>\n",
       "        <tr>\n",
       "            <td>Booster Version</td>\n",
       "        </tr>\n",
       "        <tr>\n",
       "            <td>Booster Version</td>\n",
       "        </tr>\n",
       "        <tr>\n",
       "            <td>Booster Version</td>\n",
       "        </tr>\n",
       "        <tr>\n",
       "            <td>Booster Version</td>\n",
       "        </tr>\n",
       "        <tr>\n",
       "            <td>Booster Version</td>\n",
       "        </tr>\n",
       "        <tr>\n",
       "            <td>Booster Version</td>\n",
       "        </tr>\n",
       "        <tr>\n",
       "            <td>Booster Version</td>\n",
       "        </tr>\n",
       "        <tr>\n",
       "            <td>Booster Version</td>\n",
       "        </tr>\n",
       "        <tr>\n",
       "            <td>Booster Version</td>\n",
       "        </tr>\n",
       "        <tr>\n",
       "            <td>Booster Version</td>\n",
       "        </tr>\n",
       "        <tr>\n",
       "            <td>Booster Version</td>\n",
       "        </tr>\n",
       "        <tr>\n",
       "            <td>Booster Version</td>\n",
       "        </tr>\n",
       "        <tr>\n",
       "            <td>Booster Version</td>\n",
       "        </tr>\n",
       "        <tr>\n",
       "            <td>Booster Version</td>\n",
       "        </tr>\n",
       "        <tr>\n",
       "            <td>Booster Version</td>\n",
       "        </tr>\n",
       "        <tr>\n",
       "            <td>Booster Version</td>\n",
       "        </tr>\n",
       "        <tr>\n",
       "            <td>Booster Version</td>\n",
       "        </tr>\n",
       "        <tr>\n",
       "            <td>Booster Version</td>\n",
       "        </tr>\n",
       "        <tr>\n",
       "            <td>Booster Version</td>\n",
       "        </tr>\n",
       "        <tr>\n",
       "            <td>Booster Version</td>\n",
       "        </tr>\n",
       "        <tr>\n",
       "            <td>Booster Version</td>\n",
       "        </tr>\n",
       "        <tr>\n",
       "            <td>Booster Version</td>\n",
       "        </tr>\n",
       "        <tr>\n",
       "            <td>Booster Version</td>\n",
       "        </tr>\n",
       "        <tr>\n",
       "            <td>Booster Version</td>\n",
       "        </tr>\n",
       "        <tr>\n",
       "            <td>Booster Version</td>\n",
       "        </tr>\n",
       "        <tr>\n",
       "            <td>Booster Version</td>\n",
       "        </tr>\n",
       "        <tr>\n",
       "            <td>Booster Version</td>\n",
       "        </tr>\n",
       "        <tr>\n",
       "            <td>Booster Version</td>\n",
       "        </tr>\n",
       "        <tr>\n",
       "            <td>Booster Version</td>\n",
       "        </tr>\n",
       "        <tr>\n",
       "            <td>Booster Version</td>\n",
       "        </tr>\n",
       "        <tr>\n",
       "            <td>Booster Version</td>\n",
       "        </tr>\n",
       "        <tr>\n",
       "            <td>Booster Version</td>\n",
       "        </tr>\n",
       "        <tr>\n",
       "            <td>Booster Version</td>\n",
       "        </tr>\n",
       "        <tr>\n",
       "            <td>Booster Version</td>\n",
       "        </tr>\n",
       "        <tr>\n",
       "            <td>Booster Version</td>\n",
       "        </tr>\n",
       "        <tr>\n",
       "            <td>Booster Version</td>\n",
       "        </tr>\n",
       "        <tr>\n",
       "            <td>Booster Version</td>\n",
       "        </tr>\n",
       "        <tr>\n",
       "            <td>Booster Version</td>\n",
       "        </tr>\n",
       "        <tr>\n",
       "            <td>Booster Version</td>\n",
       "        </tr>\n",
       "        <tr>\n",
       "            <td>Booster Version</td>\n",
       "        </tr>\n",
       "        <tr>\n",
       "            <td>Booster Version</td>\n",
       "        </tr>\n",
       "        <tr>\n",
       "            <td>Booster Version</td>\n",
       "        </tr>\n",
       "        <tr>\n",
       "            <td>Booster Version</td>\n",
       "        </tr>\n",
       "        <tr>\n",
       "            <td>Booster Version</td>\n",
       "        </tr>\n",
       "        <tr>\n",
       "            <td>Booster Version</td>\n",
       "        </tr>\n",
       "        <tr>\n",
       "            <td>Booster Version</td>\n",
       "        </tr>\n",
       "        <tr>\n",
       "            <td>Booster Version</td>\n",
       "        </tr>\n",
       "        <tr>\n",
       "            <td>Booster Version</td>\n",
       "        </tr>\n",
       "        <tr>\n",
       "            <td>Booster Version</td>\n",
       "        </tr>\n",
       "        <tr>\n",
       "            <td>Booster Version</td>\n",
       "        </tr>\n",
       "        <tr>\n",
       "            <td>Booster Version</td>\n",
       "        </tr>\n",
       "        <tr>\n",
       "            <td>Booster Version</td>\n",
       "        </tr>\n",
       "        <tr>\n",
       "            <td>Booster Version</td>\n",
       "        </tr>\n",
       "        <tr>\n",
       "            <td>Booster Version</td>\n",
       "        </tr>\n",
       "        <tr>\n",
       "            <td>Booster Version</td>\n",
       "        </tr>\n",
       "        <tr>\n",
       "            <td>Booster Version</td>\n",
       "        </tr>\n",
       "        <tr>\n",
       "            <td>Booster Version</td>\n",
       "        </tr>\n",
       "        <tr>\n",
       "            <td>Booster Version</td>\n",
       "        </tr>\n",
       "        <tr>\n",
       "            <td>Booster Version</td>\n",
       "        </tr>\n",
       "        <tr>\n",
       "            <td>Booster Version</td>\n",
       "        </tr>\n",
       "        <tr>\n",
       "            <td>Booster Version</td>\n",
       "        </tr>\n",
       "        <tr>\n",
       "            <td>Booster Version</td>\n",
       "        </tr>\n",
       "        <tr>\n",
       "            <td>Booster Version</td>\n",
       "        </tr>\n",
       "        <tr>\n",
       "            <td>Booster Version</td>\n",
       "        </tr>\n",
       "        <tr>\n",
       "            <td>Booster Version</td>\n",
       "        </tr>\n",
       "        <tr>\n",
       "            <td>Booster Version</td>\n",
       "        </tr>\n",
       "        <tr>\n",
       "            <td>Booster Version</td>\n",
       "        </tr>\n",
       "        <tr>\n",
       "            <td>Booster Version</td>\n",
       "        </tr>\n",
       "        <tr>\n",
       "            <td>Booster Version</td>\n",
       "        </tr>\n",
       "        <tr>\n",
       "            <td>Booster Version</td>\n",
       "        </tr>\n",
       "        <tr>\n",
       "            <td>Booster Version</td>\n",
       "        </tr>\n",
       "        <tr>\n",
       "            <td>Booster Version</td>\n",
       "        </tr>\n",
       "        <tr>\n",
       "            <td>Booster Version</td>\n",
       "        </tr>\n",
       "        <tr>\n",
       "            <td>Booster Version</td>\n",
       "        </tr>\n",
       "        <tr>\n",
       "            <td>Booster Version</td>\n",
       "        </tr>\n",
       "        <tr>\n",
       "            <td>Booster Version</td>\n",
       "        </tr>\n",
       "        <tr>\n",
       "            <td>Booster Version</td>\n",
       "        </tr>\n",
       "        <tr>\n",
       "            <td>Booster Version</td>\n",
       "        </tr>\n",
       "        <tr>\n",
       "            <td>Booster Version</td>\n",
       "        </tr>\n",
       "        <tr>\n",
       "            <td>Booster Version</td>\n",
       "        </tr>\n",
       "        <tr>\n",
       "            <td>Booster Version</td>\n",
       "        </tr>\n",
       "        <tr>\n",
       "            <td>Booster Version</td>\n",
       "        </tr>\n",
       "        <tr>\n",
       "            <td>Booster Version</td>\n",
       "        </tr>\n",
       "        <tr>\n",
       "            <td>Booster Version</td>\n",
       "        </tr>\n",
       "        <tr>\n",
       "            <td>Booster Version</td>\n",
       "        </tr>\n",
       "        <tr>\n",
       "            <td>Booster Version</td>\n",
       "        </tr>\n",
       "        <tr>\n",
       "            <td>Booster Version</td>\n",
       "        </tr>\n",
       "        <tr>\n",
       "            <td>Booster Version</td>\n",
       "        </tr>\n",
       "    </tbody>\n",
       "</table>"
      ],
      "text/plain": [
       "[('Booster Version',),\n",
       " ('Booster Version',),\n",
       " ('Booster Version',),\n",
       " ('Booster Version',),\n",
       " ('Booster Version',),\n",
       " ('Booster Version',),\n",
       " ('Booster Version',),\n",
       " ('Booster Version',),\n",
       " ('Booster Version',),\n",
       " ('Booster Version',),\n",
       " ('Booster Version',),\n",
       " ('Booster Version',),\n",
       " ('Booster Version',),\n",
       " ('Booster Version',),\n",
       " ('Booster Version',),\n",
       " ('Booster Version',),\n",
       " ('Booster Version',),\n",
       " ('Booster Version',),\n",
       " ('Booster Version',),\n",
       " ('Booster Version',),\n",
       " ('Booster Version',),\n",
       " ('Booster Version',),\n",
       " ('Booster Version',),\n",
       " ('Booster Version',),\n",
       " ('Booster Version',),\n",
       " ('Booster Version',),\n",
       " ('Booster Version',),\n",
       " ('Booster Version',),\n",
       " ('Booster Version',),\n",
       " ('Booster Version',),\n",
       " ('Booster Version',),\n",
       " ('Booster Version',),\n",
       " ('Booster Version',),\n",
       " ('Booster Version',),\n",
       " ('Booster Version',),\n",
       " ('Booster Version',),\n",
       " ('Booster Version',),\n",
       " ('Booster Version',),\n",
       " ('Booster Version',),\n",
       " ('Booster Version',),\n",
       " ('Booster Version',),\n",
       " ('Booster Version',),\n",
       " ('Booster Version',),\n",
       " ('Booster Version',),\n",
       " ('Booster Version',),\n",
       " ('Booster Version',),\n",
       " ('Booster Version',),\n",
       " ('Booster Version',),\n",
       " ('Booster Version',),\n",
       " ('Booster Version',),\n",
       " ('Booster Version',),\n",
       " ('Booster Version',),\n",
       " ('Booster Version',),\n",
       " ('Booster Version',),\n",
       " ('Booster Version',),\n",
       " ('Booster Version',),\n",
       " ('Booster Version',),\n",
       " ('Booster Version',),\n",
       " ('Booster Version',),\n",
       " ('Booster Version',),\n",
       " ('Booster Version',),\n",
       " ('Booster Version',),\n",
       " ('Booster Version',),\n",
       " ('Booster Version',),\n",
       " ('Booster Version',),\n",
       " ('Booster Version',),\n",
       " ('Booster Version',),\n",
       " ('Booster Version',),\n",
       " ('Booster Version',),\n",
       " ('Booster Version',),\n",
       " ('Booster Version',),\n",
       " ('Booster Version',),\n",
       " ('Booster Version',),\n",
       " ('Booster Version',),\n",
       " ('Booster Version',),\n",
       " ('Booster Version',),\n",
       " ('Booster Version',),\n",
       " ('Booster Version',),\n",
       " ('Booster Version',),\n",
       " ('Booster Version',),\n",
       " ('Booster Version',),\n",
       " ('Booster Version',),\n",
       " ('Booster Version',),\n",
       " ('Booster Version',),\n",
       " ('Booster Version',),\n",
       " ('Booster Version',),\n",
       " ('Booster Version',),\n",
       " ('Booster Version',),\n",
       " ('Booster Version',),\n",
       " ('Booster Version',),\n",
       " ('Booster Version',),\n",
       " ('Booster Version',),\n",
       " ('Booster Version',),\n",
       " ('Booster Version',),\n",
       " ('Booster Version',),\n",
       " ('Booster Version',),\n",
       " ('Booster Version',),\n",
       " ('Booster Version',),\n",
       " ('Booster Version',),\n",
       " ('Booster Version',),\n",
       " ('Booster Version',)]"
      ]
     },
     "execution_count": 16,
     "metadata": {},
     "output_type": "execute_result"
    }
   ],
   "source": [
    "%sql SELECT \"Booster Version\" FROM SPACEXTBL WHERE \"Payload Mass (kg)\" = (SELECT MAX(\"Payload Mass (kg)\") FROM SPACEXTBL);"
   ]
  },
  {
   "cell_type": "markdown",
   "metadata": {},
   "source": [
    "### Task 9\n",
    "\n",
    "\n",
    "##### List the records which will display the month names, failure landing_outcomes in drone ship ,booster versions, launch_site for the months in year 2015.\n",
    "\n",
    "**Note: SQLLite does not support monthnames. So you need to use  substr(Date, 6,2) as month to get the months and substr(Date,0,5)='2015' for year.**\n"
   ]
  },
  {
   "cell_type": "code",
   "execution_count": null,
   "metadata": {},
   "outputs": [],
   "source": [
    "%sql SELECT strftime('%Y', Date) AS \"Year\", CASE WHEN substr(Date, 6, 2) = '01' THEN 'January' WHEN substr(Date, 6, 2) = '02' THEN 'February' WHEN substr(Date, 6, 2) = '03' THEN 'March' WHEN substr(Date, 6, 2) = '04' THEN 'April' WHEN substr(Date, 6, 2) = '05' THEN 'May' WHEN substr(Date, 6, 2) = '06' THEN 'June' WHEN substr(Date, 6, 2) = '07' THEN 'July' WHEN substr(Date, 6, 2) = '08' THEN 'August' WHEN substr(Date, 6, 2) = '09' THEN 'September' WHEN substr(Date, 6, 2) = '10' THEN 'October' WHEN substr(Date, 6, 2) = '11' THEN 'November' WHEN substr(Date, 6, 2) = '12' THEN 'December' END AS \"Month\", \"Landing Ou"
   ]
  },
  {
   "cell_type": "markdown",
   "metadata": {},
   "source": [
    "### Task 10\n",
    "\n",
    "\n",
    "\n",
    "\n",
    "##### Rank the count of landing outcomes (such as Failure (drone ship) or Success (ground pad)) between the date 2010-06-04 and 2017-03-20, in descending order.\n"
   ]
  },
  {
   "cell_type": "code",
   "execution_count": null,
   "metadata": {},
   "outputs": [],
   "source": [
    "%sql SELECT \"Landing Outcomes\", COUNT(*) AS \"Count\" FROM SPACEXTBL WHERE \"Date\" BETWEEN '2010-06-04' AND '2017-03-20' GROUP BY \"Landing Outcomes\" ORDER BY \"Count\" DESC;"
   ]
  }
 ],
 "metadata": {
  "kernelspec": {
   "display_name": "python_ml",
   "language": "python",
   "name": "python3"
  },
  "language_info": {
   "codemirror_mode": {
    "name": "ipython",
    "version": 3
   },
   "file_extension": ".py",
   "mimetype": "text/x-python",
   "name": "python",
   "nbconvert_exporter": "python",
   "pygments_lexer": "ipython3",
   "version": "3.11.5"
  }
 },
 "nbformat": 4,
 "nbformat_minor": 4
}
